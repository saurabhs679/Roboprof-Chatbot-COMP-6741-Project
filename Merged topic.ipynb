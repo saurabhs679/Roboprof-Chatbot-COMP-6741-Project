{
 "cells": [
  {
   "cell_type": "code",
   "execution_count": 13,
   "id": "e8e884ed",
   "metadata": {},
   "outputs": [],
   "source": [
    "# Initialize an empty string to store the merged TTL content\n",
    "merged_ttl_content = \"\"\n",
    "\n",
    "# Read the content of the first TTL file\n",
    "with open(\"merged_data.ttl\", \"r\", encoding=\"utf-8\") as file:\n",
    "    merged_ttl_content += file.read()\n",
    "\n",
    "# Read the content of the second TTL file\n",
    "with open(\"output_new.ttl\", \"r\", encoding=\"utf-8\") as file:\n",
    "    merged_ttl_content += file.read()\n",
    "with open(\"Course_Catalog.ttl\", \"r\", encoding=\"utf-8\") as file:\n",
    "    merged_ttl_content += file.read()\n",
    "\n",
    "# Write the merged TTL content to an output file\n",
    "with open(\"merged_output.ttl\", \"w\", encoding=\"utf-8\") as file:\n",
    "    file.write(merged_ttl_content)"
   ]
  },
  {
   "cell_type": "code",
   "execution_count": 15,
   "id": "774c08b1",
   "metadata": {},
   "outputs": [
    {
     "name": "stdout",
     "output_type": "stream",
     "text": [
      "Number of triples in the Turtle file: 20882\n"
     ]
    }
   ],
   "source": [
    "from rdflib import Graph\n",
    "\n",
    "# Load the Turtle file into an RDF graph\n",
    "g = Graph()\n",
    "g.parse(\"merged_output.ttl\", format=\"turtle\")\n",
    "\n",
    "# Count the number of triples\n",
    "num_triples = len(g)\n",
    "\n",
    "print(\"Number of triples in the Turtle file:\", num_triples)"
   ]
  },
  {
   "cell_type": "code",
   "execution_count": null,
   "id": "0db86db0",
   "metadata": {},
   "outputs": [],
   "source": []
  }
 ],
 "metadata": {
  "kernelspec": {
   "display_name": "Python 3 (ipykernel)",
   "language": "python",
   "name": "python3"
  },
  "language_info": {
   "codemirror_mode": {
    "name": "ipython",
    "version": 3
   },
   "file_extension": ".py",
   "mimetype": "text/x-python",
   "name": "python",
   "nbconvert_exporter": "python",
   "pygments_lexer": "ipython3",
   "version": "3.11.5"
  }
 },
 "nbformat": 4,
 "nbformat_minor": 5
}
