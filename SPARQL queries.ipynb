{
 "cells": [
  {
   "cell_type": "code",
   "execution_count": 1,
   "id": "6b7d734c",
   "metadata": {},
   "outputs": [
    {
     "name": "stdout",
     "output_type": "stream",
     "text": [
      "@prefix ex: <http://example.org/> .\n",
      "@prefix rdfs: <http://www.w3.org/2000/01/rdf-schema#> .\n",
      "\n",
      "ex:LectureID a ex:Lecture ;\n",
      "    ex:content ex:slides ;\n",
      "    ex:lectureName \"Lecture Name\" ;\n",
      "    ex:lectureNumber \"Lecture Number\" ;\n",
      "    ex:webpageLink <http://example.com/lecture> .\n",
      "\n",
      "ex:StudentID a ex:Student ;\n",
      "    ex:IDNumber \"Student ID\" ;\n",
      "    ex:competentIn ex:TopicID ;\n",
      "    ex:completedCourse ex:CourseID ;\n",
      "    ex:email \"email\" ;\n",
      "    ex:firstName \"FirsT Name\" ;\n",
      "    ex:lastName \"Last Name\" .\n",
      "\n",
      "ex:UniversityID a ex:University ;\n",
      "    rdfs:label \"University Name\" ;\n",
      "    ex:dbpediaLink <https://dbpedia.org/resource/University_Name> .\n",
      "\n",
      "ex:CourseID a ex:Course ;\n",
      "    rdfs:label \"Course Name\" ;\n",
      "    ex:courseNumber \"Course Number\" ;\n",
      "    ex:credits \"Number of Credits\" ;\n",
      "    ex:description \"Course Description\" ;\n",
      "    ex:grade \"Grade\",\n",
      "        \"New grade\" ;\n",
      "    ex:outline \"Course Outline Link\" ;\n",
      "    ex:subject \"Course Subject\" ;\n",
      "    ex:webpageLink <http://example.com/course> .\n",
      "\n",
      "ex:TopicID a ex:Topic ;\n",
      "    rdfs:label \"Topic Name\" ;\n",
      "    ex:dbpediaLink <https://dbpedia.org/resource/Topic_Name> ;\n",
      "    ex:provenance \"Provenance Information\" .\n",
      "\n",
      "\n"
     ]
    }
   ],
   "source": [
    "from rdflib import Graph, Namespace, URIRef, Literal,RDF\n",
    "\n",
    "# Define namespaces\n",
    "rdf = Namespace(\"http://www.w3.org/1999/02/22-rdf-syntax-ns#\")\n",
    "rdfs = Namespace(\"http://www.w3.org/2000/01/rdf-schema#\")\n",
    "ex = Namespace(\"http://example.org/\")\n",
    "\n",
    "g = Graph()\n",
    "\n",
    "g.bind(\"ex\", ex)\n",
    "\n",
    "# University\n",
    "g.add((ex.UniversityID, rdf.type, ex.University))\n",
    "g.add((ex.UniversityID, rdfs.label, Literal(\"University Name\")))\n",
    "g.add((ex.UniversityID, ex.dbpediaLink, URIRef(\"https://dbpedia.org/resource/University_Name\")))\n",
    "\n",
    "# Course\n",
    "g.add((ex.CourseID, rdf.type, ex.Course))\n",
    "g.add((ex.CourseID, rdfs.label, Literal(\"Course Name\")))\n",
    "g.add((ex.CourseID, ex.subject, Literal(\"Course Subject\")))\n",
    "g.add((ex.CourseID, ex.courseNumber, Literal(\"Course Number\")))\n",
    "g.add((ex.CourseID, ex.credits, Literal(\"Number of Credits\")))\n",
    "g.add((ex.CourseID, ex.description, Literal(\"Course Description\")))\n",
    "g.add((ex.CourseID, ex.webpageLink, URIRef(\"http://example.com/course\")))\n",
    "g.add((ex.CourseID, ex.outline, Literal(\"Course Outline Link\")))\n",
    "\n",
    "# Lecture\n",
    "g.add((ex.LectureID, rdf.type, ex.Lecture))\n",
    "g.add((ex.LectureID, ex.lectureNumber, Literal(\"Lecture Number\")))\n",
    "g.add((ex.LectureID, ex.lectureName, Literal(\"Lecture Name\")))\n",
    "g.add((ex.LectureID, ex.content, ex.slides))\n",
    "g.add((ex.LectureID, ex.webpageLink, URIRef(\"http://example.com/lecture\")))\n",
    "\n",
    "# Topics\n",
    "g.add((ex.TopicID, rdf.type, ex.Topic))\n",
    "g.add((ex.TopicID, rdfs.label, Literal(\"Topic Name\")))\n",
    "g.add((ex.TopicID, ex.provenance, Literal(\"Provenance Information\")))\n",
    "g.add((ex.TopicID, ex.dbpediaLink, URIRef(\"https://dbpedia.org/resource/Topic_Name\")))\n",
    "\n",
    "# Define student information as individuals\n",
    "g.add((ex.StudentID, rdf.type, ex.Student))\n",
    "g.add((ex.StudentID, ex.firstName, Literal(\"FirsT Name\")))\n",
    "g.add((ex.StudentID, ex.lastName, Literal(\"Last Name\")))\n",
    "g.add((ex.StudentID, ex.IDNumber, Literal(\"Student ID\")))\n",
    "g.add((ex.StudentID, ex.email, Literal(\"email\")))\n",
    "g.add((ex.StudentID, ex.completedCourse, ex.CourseID))\n",
    "g.add((ex.CourseID, ex.grade, Literal(\"Grade\")))\n",
    "g.add((ex.CourseID, ex.grade, Literal(\"New grade\")))\n",
    "g.add((ex.StudentID, ex.competentIn, ex.TopicID))\n",
    "\n",
    "# Serialize the RDF graph in Turtle format\n",
    "turtle_data = g.serialize(format=\"turtle\")\n",
    "\n",
    "# Print the serialized data\n",
    "print(turtle_data)\n"
   ]
  },
  {
   "cell_type": "code",
   "execution_count": 2,
   "id": "3fe985f7",
   "metadata": {},
   "outputs": [
    {
     "data": {
      "text/plain": [
       "<Graph identifier=N1358623ce59547f78a1949773b3afd89 (<class 'rdflib.graph.Graph'>)>"
      ]
     },
     "execution_count": 2,
     "metadata": {},
     "output_type": "execute_result"
    }
   ],
   "source": [
    "from rdflib import Graph\n",
    "\n",
    "# Load RDF data into the graph\n",
    "g = Graph()\n",
    "g.parse(data=turtle_data, format=\"turtle\")"
   ]
  },
  {
   "cell_type": "code",
   "execution_count": 3,
   "id": "86025e77",
   "metadata": {},
   "outputs": [],
   "source": [
    "from rdflib.plugins.sparql import prepareQuery\n"
   ]
  },
  {
   "cell_type": "code",
   "execution_count": 11,
   "id": "fac3a46b",
   "metadata": {},
   "outputs": [
    {
     "name": "stdout",
     "output_type": "stream",
     "text": [
      "Enter the name of the university: a\n",
      "Course names:\n",
      "(rdflib.term.Literal('Course Name'),)\n"
     ]
    }
   ],
   "source": [
    "#  List all courses offered by [university]\n",
    "from rdflib.plugins.sparql import prepareQuery\n",
    "\n",
    "query = f\"\"\"\n",
    "PREFIX ex: <http://example.org/>\n",
    "PREFIX rdfs: <http://www.w3.org/2000/01/rdf-schema#>\n",
    "SELECT ?courseLabel\n",
    "WHERE {{\n",
    "    ?course rdf:type ex:Course ;\n",
    "            rdfs:label ?courseLabel .\n",
    "}}\n",
    "\"\"\"\n",
    "\n",
    "q = prepareQuery(query)\n",
    "\n",
    "print(\"Course names:\")\n",
    "for row in g.query(q):\n",
    "    print(row)"
   ]
  },
  {
   "cell_type": "code",
   "execution_count": 15,
   "id": "6cbb2277",
   "metadata": {},
   "outputs": [
    {
     "name": "stdout",
     "output_type": "stream",
     "text": [
      "http://example.org/CourseID\n"
     ]
    }
   ],
   "source": [
    "subject_to_search = \"Course Subject\"  \n",
    "\n",
    "query = \"\"\"\n",
    "    SELECT ?course\n",
    "    WHERE {\n",
    "        ?course rdf:type ex:Course .\n",
    "        ?course ex:subject ?subject .\n",
    "        FILTER(?subject = \"%s\")\n",
    "    }\n",
    "\"\"\" % subject_to_search\n",
    "\n",
    "results = g.query(query, initNs={\"ex\": ex, \"rdf\": RDF})\n",
    "\n",
    "for row in results:\n",
    "    print(row.course)"
   ]
  },
  {
   "cell_type": "code",
   "execution_count": 3,
   "id": "e5acd06f",
   "metadata": {},
   "outputs": [
    {
     "name": "stdout",
     "output_type": "stream",
     "text": [
      "Enter the course number: Course Number\n",
      "Number of credits for course COMPCourse Number:\n",
      "(rdflib.term.Literal('Number of Credits'),)\n"
     ]
    }
   ],
   "source": [
    "from rdflib.plugins.sparql import prepareQuery\n",
    "course_number = input(\"Enter the course number: \")\n",
    "query = f\"\"\"\n",
    "PREFIX ex: <http://example.org/>\n",
    "SELECT ?credits\n",
    "WHERE {{\n",
    "    ?course ex:courseNumber \"{course_number}\" ;\n",
    "            ex:credits ?credits .\n",
    "}}\n",
    "\"\"\"\n",
    "q = prepareQuery(query)\n",
    "print(f\"Number of credits for course COMP{course_number}:\")\n",
    "for row in g.query(q):\n",
    "    print(row)"
   ]
  },
  {
   "cell_type": "code",
   "execution_count": 8,
   "id": "e22cf0d5",
   "metadata": {},
   "outputs": [
    {
     "name": "stdout",
     "output_type": "stream",
     "text": [
      "Courses offered by the University:\n"
     ]
    }
   ],
   "source": []
  },
  {
   "cell_type": "code",
   "execution_count": null,
   "id": "9105e1da",
   "metadata": {},
   "outputs": [],
   "source": []
  }
 ],
 "metadata": {
  "kernelspec": {
   "display_name": "Python 3 (ipykernel)",
   "language": "python",
   "name": "python3"
  },
  "language_info": {
   "codemirror_mode": {
    "name": "ipython",
    "version": 3
   },
   "file_extension": ".py",
   "mimetype": "text/x-python",
   "name": "python",
   "nbconvert_exporter": "python",
   "pygments_lexer": "ipython3",
   "version": "3.11.5"
  }
 },
 "nbformat": 4,
 "nbformat_minor": 5
}
