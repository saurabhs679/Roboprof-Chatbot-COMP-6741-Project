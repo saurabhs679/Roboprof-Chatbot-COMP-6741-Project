{
 "cells": [
  {
   "cell_type": "code",
   "execution_count": 1,
   "id": "c64a7f36",
   "metadata": {},
   "outputs": [
    {
     "name": "stdout",
     "output_type": "stream",
     "text": [
      "@prefix ex: <http://example.org/> .\n",
      "@prefix rdfs: <http://www.w3.org/2000/01/rdf-schema#> .\n",
      "\n",
      "ex:Course a rdfs:Class .\n",
      "\n",
      "ex:Lecture a rdfs:Class .\n",
      "\n",
      "ex:Student a rdfs:Class .\n",
      "\n",
      "ex:Topic a rdfs:Class .\n",
      "\n",
      "ex:University a rdfs:Class .\n",
      "\n",
      "ex:LectureID a ex:Lecture ;\n",
      "    ex:content ex:slides ;\n",
      "    ex:lectureName \"Lecture Name\" ;\n",
      "    ex:lectureNumber \"Lecture Number\" ;\n",
      "    ex:webpageLink <http://example.com/lecture> .\n",
      "\n",
      "ex:StudentID a ex:Student ;\n",
      "    ex:IDNumber \"Student ID\" ;\n",
      "    ex:competentIn ex:TopicID ;\n",
      "    ex:completedCourse ex:CourseID ;\n",
      "    ex:email \"email\" ;\n",
      "    ex:firstName \"FirsT Name\" ;\n",
      "    ex:lastName \"Last Name\" .\n",
      "\n",
      "ex:UniversityID a ex:University ;\n",
      "    rdfs:label \"University Name\" ;\n",
      "    ex:dbpediaLink <https://dbpedia.org/resource/University_Name> .\n",
      "\n",
      "ex:CourseID a ex:Course ;\n",
      "    rdfs:label \"Course Name\" ;\n",
      "    ex:courseNumber \"Course Number\" ;\n",
      "    ex:credits \"Number of Credits\" ;\n",
      "    ex:description \"Course Description\" ;\n",
      "    ex:grade \"Grade\",\n",
      "        \"New grade\" ;\n",
      "    ex:outline \"Course Outline Link\" ;\n",
      "    ex:subject \"Course Subject\" ;\n",
      "    ex:webpageLink <http://example.com/course> .\n",
      "\n",
      "ex:TopicID a ex:Topic ;\n",
      "    rdfs:label \"Topic Name\" ;\n",
      "    ex:dbpediaLink <https://dbpedia.org/resource/Topic_Name> ;\n",
      "    ex:provenance \"Provenance Information\" .\n",
      "\n",
      "\n"
     ]
    }
   ],
   "source": [
    "from rdflib import Graph, Namespace, Literal, URIRef\n",
    "\n",
    "# Define namespaces\n",
    "rdf = Namespace(\"http://www.w3.org/1999/02/22-rdf-syntax-ns#\")\n",
    "rdfs = Namespace(\"http://www.w3.org/2000/01/rdf-schema#\")\n",
    "ex = Namespace(\"http://example.org/\")\n",
    "\n",
    "g = Graph()\n",
    "\n",
    "g.bind(\"ex\", ex)\n",
    "\n",
    "\n",
    "g.add((ex.University, rdf.type, rdfs.Class))\n",
    "g.add((ex.Course, rdf.type, rdfs.Class))\n",
    "g.add((ex.Lecture, rdf.type, rdfs.Class))\n",
    "g.add((ex.Topic, rdf.type, rdfs.Class))\n",
    "g.add((ex.Student, rdf.type, rdfs.Class))\n",
    "\n",
    "# University\n",
    "g.add((ex.UniversityID, rdf.type, ex.University))\n",
    "g.add((ex.UniversityID, rdfs.label, Literal(\"University Name\")))\n",
    "g.add((ex.UniversityID, ex.dbpediaLink, URIRef(\"https://dbpedia.org/resource/University_Name\")))\n",
    "\n",
    "# Course\n",
    "g.add((ex.CourseID, rdf.type, ex.Course))\n",
    "g.add((ex.CourseID, rdfs.label, Literal(\"Course Name\")))\n",
    "g.add((ex.CourseID, ex.subject, Literal(\"Course Subject\")))\n",
    "g.add((ex.CourseID, ex.courseNumber, Literal(\"Course Number\")))\n",
    "g.add((ex.CourseID, ex.credits, Literal(\"Number of Credits\")))\n",
    "g.add((ex.CourseID, ex.description, Literal(\"Course Description\")))\n",
    "g.add((ex.CourseID, ex.webpageLink, URIRef(\"http://example.com/course\")))\n",
    "g.add((ex.CourseID, ex.outline, Literal(\"Course Outline Link\")))\n",
    "\n",
    "# Lecture\n",
    "g.add((ex.LectureID, rdf.type, ex.Lecture))\n",
    "g.add((ex.LectureID, ex.lectureNumber, Literal(\"Lecture Number\")))\n",
    "g.add((ex.LectureID, ex.lectureName, Literal(\"Lecture Name\")))\n",
    "g.add((ex.LectureID, ex.content, ex.slides))\n",
    "g.add((ex.LectureID, ex.webpageLink, URIRef(\"http://example.com/lecture\")))\n",
    "\n",
    "# Topics\n",
    "g.add((ex.TopicID, rdf.type, ex.Topic))\n",
    "g.add((ex.TopicID, rdfs.label, Literal(\"Topic Name\")))\n",
    "g.add((ex.TopicID, ex.provenance, Literal(\"Provenance Information\")))\n",
    "g.add((ex.TopicID, ex.dbpediaLink, URIRef(\"https://dbpedia.org/resource/Topic_Name\")))\n",
    "\n",
    "# student information\n",
    "g.add((ex.StudentID, rdf.type, ex.Student))\n",
    "g.add((ex.StudentID, ex.firstName, Literal(\"FirsT Name\")))\n",
    "g.add((ex.StudentID, ex.lastName, Literal(\"Last Name\")))\n",
    "g.add((ex.StudentID, ex.IDNumber, Literal(\"Student ID\")))\n",
    "g.add((ex.StudentID, ex.email, Literal(\"email\")))\n",
    "g.add((ex.StudentID, ex.completedCourse, ex.CourseID))\n",
    "g.add((ex.CourseID, ex.grade, Literal(\"Grade\")))\n",
    "g.add((ex.CourseID, ex.grade, Literal(\"New grade\")))\n",
    "g.add((ex.StudentID, ex.competentIn, ex.TopicID))\n",
    "\n",
    "turtle_data = g.serialize(format=\"turtle\")\n",
    "\n",
    "# Print the data\n",
    "print(turtle_data)\n"
   ]
  },
  {
   "cell_type": "code",
   "execution_count": 2,
   "id": "ffb3dafa",
   "metadata": {},
   "outputs": [
    {
     "data": {
      "text/plain": [
       "<Graph identifier=N2776225a99c04f0fb3e5a56f2a06fd00 (<class 'rdflib.graph.Graph'>)>"
      ]
     },
     "execution_count": 2,
     "metadata": {},
     "output_type": "execute_result"
    }
   ],
   "source": [
    "from rdflib import Graph\n",
    "\n",
    "g = Graph()\n",
    "g.parse(data=turtle_data, format=\"turtle\")"
   ]
  },
  {
   "cell_type": "code",
   "execution_count": null,
   "id": "6c0efa59",
   "metadata": {},
   "outputs": [],
   "source": []
  }
 ],
 "metadata": {
  "kernelspec": {
   "display_name": "Python 3 (ipykernel)",
   "language": "python",
   "name": "python3"
  },
  "language_info": {
   "codemirror_mode": {
    "name": "ipython",
    "version": 3
   },
   "file_extension": ".py",
   "mimetype": "text/x-python",
   "name": "python",
   "nbconvert_exporter": "python",
   "pygments_lexer": "ipython3",
   "version": "3.11.5"
  }
 },
 "nbformat": 4,
 "nbformat_minor": 5
}
