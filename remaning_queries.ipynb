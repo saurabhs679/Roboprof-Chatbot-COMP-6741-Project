{
 "cells": [
  {
   "cell_type": "code",
   "execution_count": 49,
   "id": "def432d6-3ff4-4ce5-a5b0-5594d1179f0f",
   "metadata": {},
   "outputs": [
    {
     "data": {
      "text/plain": [
       "<Graph identifier=N95c1a44aecc141a29f801bba82fe8683 (<class 'rdflib.graph.Graph'>)>"
      ]
     },
     "execution_count": 49,
     "metadata": {},
     "output_type": "execute_result"
    }
   ],
   "source": [
    "import rdflib\n",
    "\n",
    "# Create a new RDF graph\n",
    "g1 = Graph()\n",
    "\n",
    "# Parse the TTL file and merge it into the graph\n",
    "g1.parse(\"merged_data.ttl\")\n"
   ]
  },
  {
   "cell_type": "code",
   "execution_count": 50,
   "id": "29b04bec-d9d4-4b99-8170-0177a6bfb214",
   "metadata": {},
   "outputs": [
    {
     "name": "stdout",
     "output_type": "stream",
     "text": [
      "Hash table\n",
      "Run Time Errors\n"
     ]
    }
   ],
   "source": [
    "from rdflib.plugins.sparql import prepareQuery\n",
    "from rdflib import Graph, Namespace, Literal, URIRef\n",
    "\n",
    "# Define namespaces\n",
    "rdf = Namespace(\"http://www.w3.org/1999/02/22-rdf-syntax-ns#\")\n",
    "rdfs = Namespace(\"http://www.w3.org/2000/01/rdf-schema#\")\n",
    "ex = Namespace(\"http://example.org/\")\n",
    "query = prepareQuery(f\"\"\"\n",
    "    PREFIX ex: <http://example.org/>\n",
    "\n",
    "    SELECT ?competency\n",
    "    WHERE {{\n",
    "      ?course ex:completedCourse \"COMP 6481\" ;\n",
    "              ex:competentIn ?competency .\n",
    "    }}\n",
    "\"\"\", initNs={\"ex\": ex})\n",
    "\n",
    "# Execute the query and print the competencies\n",
    "results = g1.query(query)\n",
    "for row in results:\n",
    "    print(row.competency)"
   ]
  },
  {
   "cell_type": "code",
   "execution_count": 52,
   "id": "e772e6f6-a358-47ee-aab7-36d48dbca57e",
   "metadata": {},
   "outputs": [
    {
     "name": "stdout",
     "output_type": "stream",
     "text": [
      "<rdflib.plugins.sparql.processor.SPARQLResult object at 0x10cc38990>\n",
      "https://www.concordia.ca/academics/graduate/calendar/current/gina-cody-school-of-engineering-and-computer-science-courses/computer-science-and-software-engineering-master-s-and-phd-courses.html\n"
     ]
    }
   ],
   "source": [
    "query = prepareQuery(f\"\"\"\n",
    "    PREFIX ex: <http://example.org/>\n",
    "\n",
    "    SELECT ?webpageLink\n",
    "    WHERE {{\n",
    "      ?course ex:CourseNumber \"6481\" ;\n",
    "              ex:WebpageLink ?webpageLink .\n",
    "    }}\n",
    "\"\"\", initNs={\"ex\": ex})\n",
    "\n",
    "# Execute the query and print the additional resources\n",
    "results = g1.query(query)\n",
    "print(results)\n",
    "for row in results:\n",
    "    print(row.webpageLink)\n"
   ]
  },
  {
   "cell_type": "code",
   "execution_count": 54,
   "id": "5e196b33-7339-4ff7-b835-eeafb6a619d4",
   "metadata": {},
   "outputs": [
    {
     "name": "stdout",
     "output_type": "stream",
     "text": [
      "<rdflib.plugins.sparql.processor.SPARQLResult object at 0x10cb36110>\n",
      "No courses found discussing the topic: Algorithm efficiency\n"
     ]
    }
   ],
   "source": [
    "from rdflib import Graph\n",
    "from rdflib.plugins.sparql import prepareQuery\n",
    "\n",
    "#2\n",
    "# Define the topic you want to query for\n",
    "topic_name = \"Algorithm efficiency\"\n",
    "\n",
    "# Define the SPARQL query\n",
    "query = prepareQuery(f\"\"\"\n",
    "    SELECT ?CourseNumber ?CourseName\n",
    "    WHERE {{\n",
    "        ?lecture a ex:Lecture ;\n",
    "                ex:lectures_in_course ?CourseNumber ;\n",
    "                ex:TopicName \"Algorithm efficiency\" .\n",
    "        ?course a ex:Course ;\n",
    "                ex:CourseNumber ?CourseNumber ;\n",
    "                ex:CourseName ?CourseName .\n",
    "    }}\n",
    "\"\"\", initNs={\"ex\": ex})\n",
    "\n",
    "\n",
    "# Execute the query and iterate over the results\n",
    "results = g.query(query)\n",
    "print(results)\n",
    "if results:\n",
    "    print(\"Courses discussing the topic:\", topic_name)\n",
    "    for row in results:\n",
    "        print(row[0])\n",
    "else:\n",
    "    print(\"No courses found discussing the topic:\", topic_name)"
   ]
  },
  {
   "cell_type": "code",
   "execution_count": null,
   "id": "bfa59787-abb1-4eb8-a178-58891beda98b",
   "metadata": {},
   "outputs": [],
   "source": [
    "#2 Query from friend \n",
    "SELECT ?courseID ?courseName\n",
    "WHERE {\n",
    "  ?lecture a uni:Lecture ;\n",
    "           uni:belongsToCourse ?courseID ;\n",
    "           uni:topicName \"Intelligent System Architectures and Applications\" .  \n",
    "  ?course a uni:Course ;\n",
    "          uni:courseNumber ?courseID ;\n",
    "          uni:courseName ?courseName .\n",
    "}"
   ]
  },
  {
   "cell_type": "code",
   "execution_count": 38,
   "id": "8bfc1818-1401-4cb8-846b-9a26428adf2d",
   "metadata": {},
   "outputs": [],
   "source": [
    "query_string = \"\"\"\n",
    "PREFIX ex: <http://example.org/>\n",
    "\n",
    "SELECT ?courseName\n",
    "WHERE {\n",
    "  ?student ex:IDNumber \"40226298\" ;\n",
    "           ex:completedCourse ?course .\n",
    "  ?course ex:CourseName ?courseName .\n",
    "}\n",
    "\"\"\"\n",
    "\n",
    "results = g.query(query_string)\n",
    "\n",
    "for row in results:\n",
    "    print(f\"Course: {row.courseName}\")"
   ]
  },
  {
   "cell_type": "code",
   "execution_count": 39,
   "id": "f45087aa-d6f0-42d9-8afb-7a3e333cfd2a",
   "metadata": {},
   "outputs": [
    {
     "name": "stdout",
     "output_type": "stream",
     "text": [
      "----- DEBUGGING -----\n"
     ]
    }
   ],
   "source": [
    "query_string = \"\"\"\n",
    "PREFIX ex: <http://example.org/>\n",
    "\n",
    "SELECT ?topicName ?courseName\n",
    "WHERE {\n",
    "  ?topic ex:TopicName ?topicName ; \n",
    "         ex:topic_in_course ?course .\n",
    "  ?course ex:CourseName ?courseName .\n",
    "}\n",
    "\"\"\"\n",
    "\n",
    "results = g.query(query_string)\n",
    "\n",
    "print(\"----- DEBUGGING -----\") \n",
    "for row in results:\n",
    "    print(f\"Topic: {row.topicName}, Course: {row.courseName}\")"
   ]
  },
  {
   "cell_type": "code",
   "execution_count": 43,
   "id": "6dcc6c43-30f0-41d9-864b-e91a0bdbbe39",
   "metadata": {},
   "outputs": [
    {
     "name": "stdout",
     "output_type": "stream",
     "text": [
      "No reading materials found for studying Algorithm efficiency in COMP 6481\n"
     ]
    }
   ],
   "source": [
    "\n",
    "# Define the SPARQL query\n",
    "query_str = \"\"\"\n",
    "    SELECT ?readingMaterial\n",
    "    WHERE {{\n",
    "        ?course ex:CourseName \"{0}\" .\n",
    "        ?topic a ex:Topic ;\n",
    "               ex:TopicName \"{1}\" ;\n",
    "               ex:provenance ?provenance .\n",
    "        FILTER EXISTS {{ ?topic ex:provenance \"Course outline\" }}\n",
    "        ?topic ex:Readings ?readingMaterial .\n",
    "    }}\n",
    "\"\"\".format(course_name, topic_name)\n",
    "\n",
    "query = prepareQuery(query_str, initNs={\"ex\": \"http://example.org/\"})\n",
    "\n",
    "# Execute the query and iterate over the results\n",
    "results = g.query(query)\n",
    "if results:\n",
    "    print(\"Reading materials recommended for studying\", topic_name, \"in\", course_name)\n",
    "    for row in results:\n",
    "        print(row.readingMaterial)\n",
    "else:\n",
    "    print(\"No reading materials found for studying\", topic_name, \"in\", course_name)"
   ]
  },
  {
   "cell_type": "code",
   "execution_count": null,
   "id": "b8cae6fa-6962-45d7-9f1a-841eeebf15c3",
   "metadata": {},
   "outputs": [],
   "source": []
  }
 ],
 "metadata": {
  "kernelspec": {
   "display_name": "Python 3 (ipykernel)",
   "language": "python",
   "name": "python3"
  },
  "language_info": {
   "codemirror_mode": {
    "name": "ipython",
    "version": 3
   },
   "file_extension": ".py",
   "mimetype": "text/x-python",
   "name": "python",
   "nbconvert_exporter": "python",
   "pygments_lexer": "ipython3",
   "version": "3.11.7"
  }
 },
 "nbformat": 4,
 "nbformat_minor": 5
}
