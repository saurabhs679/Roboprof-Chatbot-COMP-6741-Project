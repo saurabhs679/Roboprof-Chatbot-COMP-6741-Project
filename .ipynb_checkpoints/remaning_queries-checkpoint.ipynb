{
 "cells": [
  {
   "cell_type": "code",
   "execution_count": 4,
   "id": "def432d6-3ff4-4ce5-a5b0-5594d1179f0f",
   "metadata": {},
   "outputs": [
    {
     "data": {
      "text/plain": [
       "<Graph identifier=Nc900a14eff3a40a284999c49ada403ef (<class 'rdflib.graph.Graph'>)>"
      ]
     },
     "execution_count": 4,
     "metadata": {},
     "output_type": "execute_result"
    }
   ],
   "source": [
    "import rdflib\n",
    "\n",
    "# Create a new RDF graph\n",
    "g1 = Graph()\n",
    "\n",
    "# Parse the TTL file and merge it into the graph\n",
    "g1.parse(\"merged_data.ttl\")"
   ]
  },
  {
   "cell_type": "code",
   "execution_count": 5,
   "id": "29b04bec-d9d4-4b99-8170-0177a6bfb214",
   "metadata": {},
   "outputs": [
    {
     "ename": "NameError",
     "evalue": "name 'prepareQuery' is not defined",
     "output_type": "error",
     "traceback": [
      "\u001b[0;31m---------------------------------------------------------------------------\u001b[0m",
      "\u001b[0;31mNameError\u001b[0m                                 Traceback (most recent call last)",
      "Cell \u001b[0;32mIn[5], line 1\u001b[0m\n\u001b[0;32m----> 1\u001b[0m query \u001b[38;5;241m=\u001b[39m prepareQuery(\u001b[38;5;124mf\u001b[39m\u001b[38;5;124m\"\"\"\u001b[39m\n\u001b[1;32m      2\u001b[0m \u001b[38;5;124m    PREFIX ex: <http://example.org/>\u001b[39m\n\u001b[1;32m      3\u001b[0m \n\u001b[1;32m      4\u001b[0m \u001b[38;5;124m    SELECT ?competency\u001b[39m\n\u001b[1;32m      5\u001b[0m \u001b[38;5;124m    WHERE \u001b[39m\u001b[38;5;130;01m{{\u001b[39;00m\n\u001b[1;32m      6\u001b[0m \u001b[38;5;124m      ?course ex:completedCourse \u001b[39m\u001b[38;5;124m\"\u001b[39m\u001b[38;5;124mCOMP 6481\u001b[39m\u001b[38;5;124m\"\u001b[39m\u001b[38;5;124m ;\u001b[39m\n\u001b[1;32m      7\u001b[0m \u001b[38;5;124m              ex:competentIn ?competency .\u001b[39m\n\u001b[1;32m      8\u001b[0m \u001b[38;5;124m    \u001b[39m\u001b[38;5;130;01m}}\u001b[39;00m\n\u001b[1;32m      9\u001b[0m \u001b[38;5;124m\"\"\"\u001b[39m, initNs\u001b[38;5;241m=\u001b[39m{\u001b[38;5;124m\"\u001b[39m\u001b[38;5;124mex\u001b[39m\u001b[38;5;124m\"\u001b[39m: ex})\n\u001b[1;32m     11\u001b[0m \u001b[38;5;66;03m# Execute the query and print the competencies\u001b[39;00m\n\u001b[1;32m     12\u001b[0m results \u001b[38;5;241m=\u001b[39m g1\u001b[38;5;241m.\u001b[39mquery(query)\n",
      "\u001b[0;31mNameError\u001b[0m: name 'prepareQuery' is not defined"
     ]
    }
   ],
   "source": [
    "query = prepareQuery(f\"\"\"\n",
    "    PREFIX ex: <http://example.org/>\n",
    "\n",
    "    SELECT ?competency\n",
    "    WHERE {{\n",
    "      ?course ex:completedCourse \"COMP 6481\" ;\n",
    "              ex:competentIn ?competency .\n",
    "    }}\n",
    "\"\"\", initNs={\"ex\": ex})\n",
    "\n",
    "# Execute the query and print the competencies\n",
    "results = g1.query(query)\n",
    "for row in results:\n",
    "    print(row.competency)"
   ]
  },
  {
   "cell_type": "code",
   "execution_count": null,
   "id": "e772e6f6-a358-47ee-aab7-36d48dbca57e",
   "metadata": {},
   "outputs": [],
   "source": []
  }
 ],
 "metadata": {
  "kernelspec": {
   "display_name": "Python 3 (ipykernel)",
   "language": "python",
   "name": "python3"
  },
  "language_info": {
   "codemirror_mode": {
    "name": "ipython",
    "version": 3
   },
   "file_extension": ".py",
   "mimetype": "text/x-python",
   "name": "python",
   "nbconvert_exporter": "python",
   "pygments_lexer": "ipython3",
   "version": "3.11.7"
  }
 },
 "nbformat": 4,
 "nbformat_minor": 5
}
